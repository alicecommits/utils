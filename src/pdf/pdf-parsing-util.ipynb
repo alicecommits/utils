{
 "cells": [
  {
   "attachments": {},
   "cell_type": "markdown",
   "metadata": {},
   "source": [
    "# **Parsing PDF stuff**\n",
    "\n",
    "TBD content to use as PoC\n",
    "- TBD one schematic publicly accessible - note the ECAD SW that generated it!\n",
    "- TBD one other publicly accessible PDF content: table, sch in datasheet, datasheet itself..."
   ]
  },
  {
   "cell_type": "code",
   "execution_count": null,
   "metadata": {},
   "outputs": [],
   "source": [
    "pdf_eg1 = './some.pdf'\n",
    "pdf_eg2 = './some_other.pdf'"
   ]
  },
  {
   "attachments": {},
   "cell_type": "markdown",
   "metadata": {},
   "source": [
    "Idea of processing scenarios that will be explored with the help of this util\n",
    "1) Text parsing/extraction (incl non-horizontal)\n",
    "2) Ctrl+F in the text\n",
    "3) Return the page nb where text was found\n",
    "4) Print the page\n",
    "5) OCR on the printed page with\n",
    "- zoomin around the \"frame\" of the component.\n",
    "- If no border, set arbitrary good-enough dim like 800x1000 (iterate tests)\n",
    "- test how OCR recognize the \"title\" of the sch section (because e.g font is bigger)"
   ]
  },
  {
   "attachments": {},
   "cell_type": "markdown",
   "metadata": {},
   "source": [
    "***\n",
    "### **E.g TODO** - attempt with `pdf2docx` lib\n",
    "Goal: See if parsing directly .pdf => .docx renders such as \"image in the background\" with text around"
   ]
  },
  {
   "cell_type": "code",
   "execution_count": null,
   "metadata": {},
   "outputs": [],
   "source": [
    "from pdf2docx import Converter\n",
    "\n",
    "docx_file = 'test_output.docx'\n",
    "nb_of_pages = 56 # fake data\n",
    "\n",
    "# convert pdf to docx\n",
    "cv = Converter(pdf_eg1) # pdf_eg2\n",
    "cv.convert(docx_file, pages=[nb_of_pages]) #1st page has index 0\n",
    "cv.close()"
   ]
  },
  {
   "attachments": {},
   "cell_type": "markdown",
   "metadata": {},
   "source": [
    "**Observations** \n",
    "- TBD"
   ]
  },
  {
   "attachments": {},
   "cell_type": "markdown",
   "metadata": {},
   "source": [
    "***\n",
    "### **E.g TODO** - attempt with `pdf2docx` lib\n",
    "Goal 1: Text parsing/extraction (incl. non-horizontal)"
   ]
  },
  {
   "cell_type": "code",
   "execution_count": null,
   "metadata": {},
   "outputs": [],
   "source": [
    "import PyPDF2\n",
    "from PyPDF2 import PdfReader\n",
    "\n",
    "page_nb = 44 # fake data\n",
    "\n",
    "reader = PdfReader(pdf_eg1) # pdf_eg2\n",
    "number_of_pages = len(reader.pages)\n",
    "page_eg = reader.pages[page_nb] #1st page has index 0\n",
    "text_eg = page_eg.extract_text()\n",
    "\n",
    "print(text_eg) #, end='\\n'\n",
    "\n",
    "# Instruction below returns general PDF file structure\n",
    "page_eg"
   ]
  },
  {
   "attachments": {},
   "cell_type": "markdown",
   "metadata": {},
   "source": [
    "Goal 2: Image extraction in rectangles"
   ]
  },
  {
   "cell_type": "code",
   "execution_count": null,
   "metadata": {},
   "outputs": [],
   "source": [
    "import svgwrite\n",
    "\n",
    "reader_img = PdfReader(pdf_eg1) #pdf_eg2\n",
    "page_eg_img = 44 # fake data\n",
    "\n",
    "dwg = svgwrite.Drawing(\"some_drawing_to_save_for_test.svg\", profile = \"tiny\")\n",
    "\n",
    "# all below code is generic\n",
    "def visitor_svg_rect(op, args, cm, tm):\n",
    "    if op == b\"re\":\n",
    "        (x, y, w, h) = (args[i].as_numeric() for i in range(4))\n",
    "        dwg.add(dwg.rect((x, y), (w, h), stroke=\"red\", fill_opacity=0.05))\n",
    "\n",
    "\n",
    "def visitor_svg_text(text, cm, tm, fontDict, fontSize):\n",
    "    (x, y) = (tm[4], tm[5])\n",
    "    dwg.add(dwg.text(text, insert=(x, y), fill=\"blue\"))\n",
    "\n",
    "\n",
    "page_eg_img.extract_text(\n",
    "    visitor_operand_before=visitor_svg_rect, visitor_text=visitor_svg_text\n",
    ")\n",
    "dwg.save()"
   ]
  },
  {
   "attachments": {},
   "cell_type": "markdown",
   "metadata": {},
   "source": [
    "Goal 3: Trying image extraction with .images attrib"
   ]
  },
  {
   "cell_type": "code",
   "execution_count": null,
   "metadata": {},
   "outputs": [],
   "source": [
    "# same reader, page as above\n",
    "count = 0\n",
    "\n",
    "for image_file_object in page_eg_img.images:\n",
    "    with open(str(count) + image_file_object.name, \"wb\") as fp:\n",
    "        fp.write(image_file_object.data)\n",
    "        count += 1\n",
    "\n",
    "page_eg_img.images"
   ]
  },
  {
   "attachments": {},
   "cell_type": "markdown",
   "metadata": {},
   "source": [
    "***\n",
    "### **E.g TODO** - attempt with `PyMuPDF + Pillow` lib\n",
    "Goal 2+3: Image parsing/extraction"
   ]
  },
  {
   "cell_type": "code",
   "execution_count": null,
   "metadata": {},
   "outputs": [],
   "source": [
    "import fitz # PyMuPDF\n",
    "import io\n",
    "from PIL import Image\n",
    "\n",
    "pdf_eg1_opened = fitz.open(pdf_eg1)\n",
    "# pdf_eg2_opened = fitz.open(pdf_eg2)\n",
    "\n",
    "# iterate over PDF pages if multi-pages\n",
    "for page_index in range(len(pdf_eg1_opened)):\n",
    "    page = pdf_eg1_opened[page_index] # get page itself\n",
    "    \n",
    "    image_list = page.get_images()\n",
    "    if image_list: # print nb of images found in page\n",
    "        print(f\"[+] Found a total of {len(image_list)} images in page {page_index}\")\n",
    "    else:\n",
    "        print(\"[!] No images found on page\", page_index)\n",
    "\n",
    "    for image_index, img in enumerate(image_list, start=1):\n",
    "        # get the XREF of the image\n",
    "        xref = img[0]\n",
    "        base_image = pdf_eg1_opened.extract_image(xref)\n",
    "\n",
    "        image_bytes = base_image[\"image\"] # extract the image bytes\n",
    "        image_ext = base_image[\"ext\"] # get the image extension\n",
    "        image = Image.open(io.BytesIO(image_bytes)) # load it to PIL\n",
    "        \n",
    "        # save it to local disk\n",
    "        image.save(open(f\"image{page_index+1}_{image_index}.{image_ext}\", \"wb\"))"
   ]
  },
  {
   "attachments": {},
   "cell_type": "markdown",
   "metadata": {},
   "source": [
    "***\n",
    "### **E.g TODO** - attempt with `Camelot` lib\n",
    "Goal 1: Text parsing/extraction (incl. non-horizontal)"
   ]
  },
  {
   "cell_type": "code",
   "execution_count": null,
   "metadata": {},
   "outputs": [],
   "source": [
    "import camelot\n",
    "\n",
    "tables = camelot.read_pdf(pdf_eg1)\n",
    "print(\"Total tables extracted: \", tables.n)\n",
    "\n",
    "#TODO solve Issue:\n",
    "# \"AttributeError: module 'camelot' has no attribute 'read_pdf' \n",
    "# --> maybe need java on the machine?\""
   ]
  }
 ],
 "metadata": {
  "language_info": {
   "name": "python"
  },
  "orig_nbformat": 4
 },
 "nbformat": 4,
 "nbformat_minor": 2
}
